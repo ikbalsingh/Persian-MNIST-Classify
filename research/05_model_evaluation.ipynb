{
 "cells": [
  {
   "cell_type": "code",
   "execution_count": 1,
   "metadata": {},
   "outputs": [],
   "source": [
    "import os"
   ]
  },
  {
   "cell_type": "code",
   "execution_count": 2,
   "metadata": {},
   "outputs": [
    {
     "data": {
      "text/plain": [
       "'c:\\\\Users\\\\ikbal\\\\Desktop\\\\projects\\\\flower-classification\\\\research'"
      ]
     },
     "execution_count": 2,
     "metadata": {},
     "output_type": "execute_result"
    }
   ],
   "source": [
    "%pwd"
   ]
  },
  {
   "cell_type": "code",
   "execution_count": 3,
   "metadata": {},
   "outputs": [],
   "source": [
    "os.chdir(\"../\")"
   ]
  },
  {
   "cell_type": "code",
   "execution_count": 4,
   "metadata": {},
   "outputs": [
    {
     "data": {
      "text/plain": [
       "'c:\\\\Users\\\\ikbal\\\\Desktop\\\\projects\\\\flower-classification'"
      ]
     },
     "execution_count": 4,
     "metadata": {},
     "output_type": "execute_result"
    }
   ],
   "source": [
    "%pwd"
   ]
  },
  {
   "cell_type": "code",
   "execution_count": 5,
   "metadata": {},
   "outputs": [],
   "source": [
    "import tensorflow as tf"
   ]
  },
  {
   "cell_type": "code",
   "execution_count": 6,
   "metadata": {},
   "outputs": [],
   "source": [
    "model = tf.keras.models.load_model(\"artifacts/training/model.keras\")"
   ]
  },
  {
   "cell_type": "code",
   "execution_count": 7,
   "metadata": {},
   "outputs": [],
   "source": [
    "from dataclasses import dataclass\n",
    "from pathlib import Path\n",
    "\n",
    "\n",
    "@dataclass(frozen=True)\n",
    "class EvaluationConfig:\n",
    "    path_of_model: Path\n",
    "    training_data: Path\n",
    "    all_params: dict\n",
    "    params_image_size: list\n",
    "    params_batch_size: int"
   ]
  },
  {
   "cell_type": "code",
   "execution_count": 8,
   "metadata": {},
   "outputs": [],
   "source": [
    "from cnnClassifier.constants import *\n",
    "from cnnClassifier.utils.common import read_yaml, create_directories, save_json"
   ]
  },
  {
   "cell_type": "code",
   "execution_count": 9,
   "metadata": {},
   "outputs": [],
   "source": [
    "class ConfigurationManager:\n",
    "    def __init__(\n",
    "        self, \n",
    "        config_filepath = CONFIG_FILE_PATH,\n",
    "        params_filepath = PARAMS_FILE_PATH):\n",
    "        self.config = read_yaml(config_filepath)\n",
    "        self.params = read_yaml(params_filepath)\n",
    "        create_directories([self.config.artifacts_root])\n",
    "\n",
    "    \n",
    "    def get_validation_config(self) -> EvaluationConfig:\n",
    "        eval_config = EvaluationConfig(\n",
    "            path_of_model=\"artifacts/training/model.keras\",\n",
    "            training_data=\"artifacts/data_ingestion/test\",\n",
    "            all_params=self.params,\n",
    "            params_image_size=self.params.IMAGE_SIZE,\n",
    "            params_batch_size=self.params.BATCH_SIZE\n",
    "        )\n",
    "        return eval_config\n",
    "\n",
    "\n"
   ]
  },
  {
   "cell_type": "code",
   "execution_count": 10,
   "metadata": {},
   "outputs": [],
   "source": [
    "from urllib.parse import urlparse\n",
    "from tensorflow.keras.preprocessing import image\n",
    "import numpy as np\n",
    "import matplotlib.pyplot as plt"
   ]
  },
  {
   "cell_type": "code",
   "execution_count": 15,
   "metadata": {},
   "outputs": [],
   "source": [
    "class Evaluation:\n",
    "    def __init__(self, config: EvaluationConfig):\n",
    "        self.config = config\n",
    "\n",
    "    \n",
    "    def _valid_generator(self):\n",
    "        img_height = 28\n",
    "        img_width = 28\n",
    "        batch_size = self.config.params_batch_size\n",
    "        seed_train_validation = 1 # Must be same for train_ds and val_ds\n",
    "        shuffle_value = True\n",
    "\n",
    "        self.validation_generator = tf.keras.utils.image_dataset_from_directory(\n",
    "            directory = \"test\",\n",
    "            image_size = (img_height, img_width),\n",
    "            seed = seed_train_validation,\n",
    "            shuffle = shuffle_value,\n",
    "            labels='inferred',\n",
    "            label_mode='int',\n",
    "        ) # set as validation data\n",
    "\n",
    "        # Normalize the datasets\n",
    "        normalization_layer = tf.keras.layers.Rescaling(1./255)\n",
    "\n",
    "        self.validation_generator_norm = self.validation_generator.map(lambda x, y: (normalization_layer(x), y))\n",
    "\n",
    "\n",
    "    \n",
    "    @staticmethod\n",
    "    def load_model(path: Path) -> tf.keras.Model:\n",
    "        return tf.keras.models.load_model(path)\n",
    "    \n",
    "\n",
    "    def evaluation(self):\n",
    "        self.model = self.load_model(self.config.path_of_model)\n",
    "        self._valid_generator()\n",
    "        self.score = model.evaluate(self.validation_generator_norm)\n",
    "\n",
    "    \n",
    "    def save_score(self):\n",
    "        scores = {\"loss\": self.score[0], \"accuracy\": self.score[1]}\n",
    "        save_json(path=Path(\"scores.json\"), data=scores)\n",
    "\n",
    "    def predict_and_plot(self):\n",
    "        num_images = 10 \n",
    "        # Load the trained model\n",
    "        # Read and preprocess images\n",
    "        def load_and_preprocess_image(img_path, target_size=(28, 28)):\n",
    "            img = image.load_img(img_path, target_size=target_size)\n",
    "            img_array = image.img_to_array(img)\n",
    "            img_array = img_array/255.0  # Apply preprocessing specific to your model\n",
    "            return img_array\n",
    "\n",
    "        # Collect image paths and labels\n",
    "        image_paths = []\n",
    "        true_labels = []\n",
    "        class_names = sorted(os.listdir(self.config.training_data))  # Sorted to maintain consistent order\n",
    "\n",
    "        for class_index, class_name in enumerate(class_names):\n",
    "            class_folder = os.path.join(self.config.training_data, class_name)\n",
    "            if os.path.isdir(class_folder):\n",
    "                for filename in os.listdir(class_folder):\n",
    "                    img_path = os.path.join(class_folder, filename)\n",
    "                    image_paths.append(img_path)\n",
    "                    true_labels.append(class_index)\n",
    "\n",
    "        # Create an index array and shuffle it\n",
    "        indices = np.arange(len(image_paths))\n",
    "        # np.random.seed()  # For reproducibility\n",
    "        np.random.shuffle(indices)\n",
    "\n",
    "        # Select 10 images and corresponding labels using shuffled indices\n",
    "        selected_indices = indices[:num_images]\n",
    "        selected_image_paths = [image_paths[i] for i in selected_indices]\n",
    "        selected_true_labels = [true_labels[i] for i in selected_indices]\n",
    "\n",
    "        # Load and preprocess selected images\n",
    "        images = np.array([load_and_preprocess_image(img_path) for img_path in selected_image_paths])\n",
    "\n",
    "        # Run predictions\n",
    "        predictions = self.model.predict(images)\n",
    "        predicted_labels = np.argmax(predictions, axis=1)\n",
    "\n",
    "        # Plot images with predictions and actual labels\n",
    "        plt.figure(figsize=(15, 10))\n",
    "        for i in range(num_images):\n",
    "            plt.subplot(2, 5, i + 1)\n",
    "            img_display = images[i] * 255  # Reverse normalization\n",
    "            img_display = np.clip(img_display, 0, 255)  # Ensure pixel values are in [0, 255]\n",
    "            plt.imshow(img_display.astype(np.uint8))  # Convert to uint8 for display\n",
    "            plt.title(f\"Pred: {class_names[predicted_labels[i]]}\\nTrue: {class_names[selected_true_labels[i]]}\")\n",
    "            plt.axis('off')\n",
    "\n",
    "        plt.tight_layout()\n",
    "        plt.show()\n",
    "    "
   ]
  },
  {
   "cell_type": "code",
   "execution_count": 16,
   "metadata": {},
   "outputs": [
    {
     "name": "stdout",
     "output_type": "stream",
     "text": [
      "[2024-08-04 21:36:15,804: INFO: common: yaml file: config\\config.yaml loaded successfully]\n",
      "[2024-08-04 21:36:15,808: INFO: common: yaml file: params.yaml loaded successfully]\n",
      "[2024-08-04 21:36:15,810: INFO: common: created directory at: artifacts]\n",
      "Found 10000 files belonging to 10 classes.\n",
      "313/313 [==============================] - 8s 26ms/step - loss: 0.0517 - accuracy: 0.9848\n",
      "[2024-08-04 21:36:26,337: INFO: common: json file saved at: scores.json]\n",
      "1/1 [==============================] - 0s 101ms/step\n"
     ]
    },
    {
     "data": {
      "image/png": "[encoded data removed]",
      "text/plain": [
       "<Figure size 1500x1000 with 10 Axes>"
      ]
     },
     "metadata": {},
     "output_type": "display_data"
    }
   ],
   "source": [
    "try:\n",
    "    config = ConfigurationManager()\n",
    "    val_config = config.get_validation_config()\n",
    "    evaluation = Evaluation(val_config)\n",
    "    evaluation.evaluation()\n",
    "    evaluation.save_score()\n",
    "    evaluation.predict_and_plot()\n",
    "\n",
    "except Exception as e:\n",
    "   raise e"
   ]
  },
  {
   "cell_type": "code",
   "execution_count": null,
   "metadata": {},
   "outputs": [],
   "source": []
  }
 ],
 "metadata": {
  "kernelspec": {
   "display_name": "chicken",
   "language": "python",
   "name": "python3"
  },
  "language_info": {
   "codemirror_mode": {
    "name": "ipython",
    "version": 3
   },
   "file_extension": ".py",
   "mimetype": "text/x-python",
   "name": "python",
   "nbconvert_exporter": "python",
   "pygments_lexer": "ipython3",
   "version": "3.8.4"
  },
  "orig_nbformat": 4
 },
 "nbformat": 4,
 "nbformat_minor": 2
}
