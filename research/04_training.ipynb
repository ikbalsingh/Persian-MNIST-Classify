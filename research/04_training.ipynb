{
 "cells": [
  {
   "cell_type": "code",
   "execution_count": 1,
   "metadata": {},
   "outputs": [],
   "source": [
    "import os\n"
   ]
  },
  {
   "cell_type": "code",
   "execution_count": 2,
   "metadata": {},
   "outputs": [
    {
     "data": {
      "text/plain": [
       "'c:\\\\Users\\\\ikbal\\\\Desktop\\\\projects\\\\flower-classification\\\\research'"
      ]
     },
     "execution_count": 2,
     "metadata": {},
     "output_type": "execute_result"
    }
   ],
   "source": [
    "%pwd"
   ]
  },
  {
   "cell_type": "code",
   "execution_count": 3,
   "metadata": {},
   "outputs": [],
   "source": [
    "os.chdir(\"../\")"
   ]
  },
  {
   "cell_type": "code",
   "execution_count": 4,
   "metadata": {},
   "outputs": [
    {
     "data": {
      "text/plain": [
       "'c:\\\\Users\\\\ikbal\\\\Desktop\\\\projects\\\\flower-classification'"
      ]
     },
     "execution_count": 4,
     "metadata": {},
     "output_type": "execute_result"
    }
   ],
   "source": [
    "%pwd"
   ]
  },
  {
   "cell_type": "code",
   "execution_count": 5,
   "metadata": {},
   "outputs": [],
   "source": [
    "from dataclasses import dataclass\n",
    "from pathlib import Path\n",
    "\n",
    "\n",
    "@dataclass(frozen=True)\n",
    "class TrainingConfig:\n",
    "    root_dir: Path\n",
    "    trained_model_path: Path\n",
    "    updated_base_model_path: Path\n",
    "    training_data: Path\n",
    "    params_epochs: int\n",
    "    params_batch_size: int\n",
    "    params_is_augmentation: bool\n",
    "    params_image_size: list\n",
    "\n",
    "\n",
    "\n",
    "@dataclass(frozen=True)\n",
    "class PrepareCallbacksConfig:\n",
    "    root_dir: Path\n",
    "    tensorboard_root_log_dir: Path\n",
    "    checkpoint_model_filepath: Path"
   ]
  },
  {
   "cell_type": "code",
   "execution_count": 6,
   "metadata": {},
   "outputs": [],
   "source": [
    "from cnnClassifier.constants import *\n",
    "from cnnClassifier.utils.common import read_yaml, create_directories\n",
    "import tensorflow as tf\n",
    "from tensorflow.keras.utils import to_categorical\n",
    "import matplotlib.pyplot as plt"
   ]
  },
  {
   "cell_type": "code",
   "execution_count": 7,
   "metadata": {},
   "outputs": [],
   "source": [
    "class ConfigurationManager:\n",
    "    def __init__(\n",
    "        self, \n",
    "        config_filepath = CONFIG_FILE_PATH,\n",
    "        params_filepath = PARAMS_FILE_PATH):\n",
    "        self.config = read_yaml(config_filepath)\n",
    "        self.params = read_yaml(params_filepath)\n",
    "        create_directories([self.config.artifacts_root])\n",
    "\n",
    "\n",
    "    \n",
    "    def get_prepare_callback_config(self) -> PrepareCallbacksConfig:\n",
    "        config = self.config.prepare_callbacks\n",
    "        model_ckpt_dir = os.path.dirname(config.checkpoint_model_filepath)\n",
    "        create_directories([\n",
    "            Path(model_ckpt_dir),\n",
    "            Path(config.tensorboard_root_log_dir)\n",
    "        ])\n",
    "\n",
    "        prepare_callback_config = PrepareCallbacksConfig(\n",
    "            root_dir=Path(config.root_dir),\n",
    "            tensorboard_root_log_dir=Path(config.tensorboard_root_log_dir),\n",
    "            checkpoint_model_filepath=Path(config.checkpoint_model_filepath)\n",
    "        )\n",
    "\n",
    "        return prepare_callback_config\n",
    "    \n",
    "\n",
    "\n",
    "\n",
    "\n",
    "    def get_training_config(self) -> TrainingConfig:\n",
    "        training = self.config.training\n",
    "        prepare_base_model = self.config.prepare_base_model\n",
    "        params = self.params\n",
    "        training_data = os.path.join(self.config.data_ingestion.unzip_dir, \"train\")\n",
    "        create_directories([\n",
    "            Path(training.root_dir)\n",
    "        ])\n",
    "\n",
    "        training_config = TrainingConfig(\n",
    "            root_dir=Path(training.root_dir),\n",
    "            trained_model_path=Path(training.trained_model_path),\n",
    "            updated_base_model_path=Path(prepare_base_model.updated_base_model_path),\n",
    "            training_data=Path(training_data),\n",
    "            params_epochs=params.EPOCHS,\n",
    "            params_batch_size=params.BATCH_SIZE,\n",
    "            params_is_augmentation=params.AUGMENTATION,\n",
    "            params_image_size=params.IMAGE_SIZE\n",
    "        )\n",
    "\n",
    "        return training_config"
   ]
  },
  {
   "cell_type": "code",
   "execution_count": 8,
   "metadata": {},
   "outputs": [],
   "source": [
    "import time"
   ]
  },
  {
   "cell_type": "code",
   "execution_count": 9,
   "metadata": {},
   "outputs": [],
   "source": [
    "class PrepareCallback:\n",
    "    def __init__(self, config: PrepareCallbacksConfig):\n",
    "        self.config = config\n",
    "\n",
    "\n",
    "    \n",
    "    @property\n",
    "    def _create_tb_callbacks(self):\n",
    "        timestamp = time.strftime(\"%Y-%m-%d-%H-%M-%S\")\n",
    "        tb_running_log_dir = os.path.join(\n",
    "            self.config.tensorboard_root_log_dir,\n",
    "            f\"tb_logs_at_{timestamp}\",\n",
    "        )\n",
    "        return tf.keras.callbacks.TensorBoard(log_dir=tb_running_log_dir)\n",
    "    \n",
    "\n",
    "    @property\n",
    "    def _create_ckpt_callbacks(self):\n",
    "        return tf.keras.callbacks.ModelCheckpoint(\n",
    "            filepath=str(self.config.checkpoint_model_filepath),\n",
    "            save_best_only=True\n",
    "        )\n",
    "\n",
    "\n",
    "    def get_tb_ckpt_callbacks(self):\n",
    "        return [\n",
    "            self._create_tb_callbacks,\n",
    "            self._create_ckpt_callbacks\n",
    "        ]\n"
   ]
  },
  {
   "cell_type": "code",
   "execution_count": 10,
   "metadata": {},
   "outputs": [],
   "source": [
    "import os\n",
    "import urllib.request as request\n",
    "from zipfile import ZipFile\n",
    "import tensorflow as tf\n",
    "import time\n",
    "import numpy as np\n",
    "from PIL import Image\n"
   ]
  },
  {
   "cell_type": "code",
   "execution_count": 11,
   "metadata": {},
   "outputs": [],
   "source": [
    "train_data_dir =  \"train\"\n",
    "test_data_dir = \"test\""
   ]
  },
  {
   "cell_type": "code",
   "execution_count": 12,
   "metadata": {},
   "outputs": [],
   "source": [
    "class Training:\n",
    "    def __init__(self, config: TrainingConfig):\n",
    "        self.config = config\n",
    "    \n",
    "    def get_base_model(self):\n",
    "        self.model = tf.keras.models.load_model(\n",
    "            self.config.updated_base_model_path\n",
    "        )\n",
    "\n",
    "    def get_trained_model(self):\n",
    "        self.model = tf.keras.models.load_model(\n",
    "            self.config.trained_model_path\n",
    "        )\n",
    "\n",
    "    def convert_images_to_rgb(self):\n",
    "        def verify_and_convert_images(directory, target_mode='RGB'):\n",
    "            for root, _, files in os.walk(directory):\n",
    "                for file in files:\n",
    "                    if file.lower().endswith(('.bmp', '.jpg', '.jpeg', '.png')):\n",
    "                        file_path = os.path.join(root, file)\n",
    "                        try:\n",
    "                            with Image.open(file_path) as img:\n",
    "                                if img.mode not in [\"RGB\", \"RGBA\", \"L\"]:\n",
    "                                    # print(f\"Invalid color mode: {img.mode} for image: {file_path}\")\n",
    "                                    # Convert to the target mode\n",
    "                                    img = img.convert(target_mode)\n",
    "                                    img.save(file_path)\n",
    "                        except (IOError, SyntaxError) as e:\n",
    "                            print(f\"Invalid image found: {file_path} - {e}\")\n",
    "                            os.remove(file_path)  # Optionally remove the corrupted file\n",
    "\n",
    "        # Verify and convert images in train and test directories\n",
    "        verify_and_convert_images(train_data_dir, target_mode='RGB')\n",
    "        verify_and_convert_images(test_data_dir, target_mode='RGB')\n",
    "\n",
    "\n",
    "    def read_data(self):\n",
    "        img_height = 28\n",
    "        img_width = 28\n",
    "        batch_size = self.config.params_batch_size\n",
    "        seed_train_validation = 1 # Must be same for train_ds and val_ds\n",
    "        shuffle_value = True\n",
    "\n",
    "        train_generator = tf.keras.utils.image_dataset_from_directory(\n",
    "            directory = train_data_dir,\n",
    "            image_size = (img_height, img_width),\n",
    "            seed = seed_train_validation,\n",
    "            shuffle = shuffle_value,\n",
    "            labels='inferred',\n",
    "            label_mode='int',\n",
    "            ) # set as training data\n",
    "\n",
    "        validation_generator = tf.keras.utils.image_dataset_from_directory(\n",
    "            directory = test_data_dir,\n",
    "            image_size = (img_height, img_width),\n",
    "            seed = seed_train_validation,\n",
    "            shuffle = shuffle_value,\n",
    "            labels='inferred',\n",
    "            label_mode='int',\n",
    "        ) # set as validation data\n",
    "\n",
    "\n",
    "        # Normalize the datasets\n",
    "        normalization_layer = tf.keras.layers.Rescaling(1./255)\n",
    "\n",
    "        self.train_generator_norm = train_generator.map(lambda x, y: (normalization_layer(x), y))\n",
    "        self.validation_generator_norm = validation_generator.map(lambda x, y: (normalization_layer(x), y))\n",
    "\n",
    "\n",
    "        # Split the validation dataset into test and validation datasets\n",
    "        train_batches = tf.data.experimental.cardinality(self.train_generator_norm)\n",
    "        self.train_ds = self.train_generator_norm.take((3 * train_batches) // 4)\n",
    "        self.val_ds = self.train_generator_norm.skip((3 * train_batches) // 4)\n",
    "\n",
    "        plt.figure(figsize=(15, 15))\n",
    "        for images, labels in self.train_ds.take(1):\n",
    "            print(images.shape, labels.shape)\n",
    "            for i in range(10):\n",
    "                ax = plt.subplot(5, 5, i + 1)\n",
    "                plt.imshow(images[i].numpy())\n",
    "                plt.title(train_generator.class_names[labels[i]])\n",
    "                plt.axis(\"off\")\n",
    "        plt.show()\n",
    "\n",
    "\n",
    "    @staticmethod\n",
    "    def save_model(path: Path, model: tf.keras.Model):\n",
    "        model.save(path)\n",
    "\n",
    "\n",
    "    def train(self, callback_list: list):\n",
    "        # Check if a GPU is available and set the device accordingly\n",
    "        if tf.test.gpu_device_name():\n",
    "            print('GPU found')\n",
    "            device = '/device:GPU:0'  # Use the first GPU\n",
    "        else:\n",
    "            print('No GPU found')\n",
    "            device = '/device:CPU:0'\n",
    "\n",
    "        with tf.device(device):\n",
    "            # self.model.fit(\n",
    "            #     self.train_generator,\n",
    "            #     epochs=self.config.params_epochs,\n",
    "            #     steps_per_epoch=self.steps_per_epoch,\n",
    "            #     validation_steps=self.validation_steps,\n",
    "            #     validation_data=self.valid_generator,\n",
    "            #     callbacks=callback_list\n",
    "            # )\n",
    "\n",
    "            history = self.model.fit(self.train_ds, validation_data=self.val_ds, epochs=self.config.params_epochs)\n",
    "            self.save_model(\n",
    "                path=self.config.trained_model_path,\n",
    "                model=self.model\n",
    "            )\n",
    "\n",
    "    def test(self):\n",
    "        test_loss, test_accuracy = self.model.evaluate(self.validation_generator_norm)\n",
    "        print(f\"Test accuracy: {test_accuracy}\")\n",
    "\n",
    "    def predict(self):\n",
    "        # Collect images and labels from the dataset\n",
    "        images_list = []\n",
    "        labels_list = []\n",
    "\n",
    "        for images, labels in self.validation_generator_norm:\n",
    "            images_list.append(images.numpy())\n",
    "            labels_list.append(labels.numpy())\n",
    "\n",
    "        # Convert lists to NumPy arrays\n",
    "        X = np.concatenate(images_list, axis=0)\n",
    "        y = np.concatenate(labels_list, axis=0)\n",
    "\n",
    "        # Run predictions\n",
    "        predictions = self.model.predict(X)\n",
    "\n",
    "        # Convert predictions to class labels\n",
    "        predicted_labels = np.argmax(predictions, axis=1)\n",
    "\n",
    "        # Convert true labels from one-hot encoded vectors to class labels\n",
    "        true_labels = y\n",
    "\n",
    "        # Calculate accuracy\n",
    "        accuracy = np.mean(predicted_labels == true_labels)\n",
    "\n",
    "        print(f\"Accuracy: {accuracy * 100:.2f}%\")"
   ]
  },
  {
   "cell_type": "code",
   "execution_count": 13,
   "metadata": {},
   "outputs": [
    {
     "name": "stdout",
     "output_type": "stream",
     "text": [
      "[2024-08-04 23:14:52,610: INFO: common: yaml file: config\\config.yaml loaded successfully]\n",
      "[2024-08-04 23:14:52,622: INFO: common: yaml file: params.yaml loaded successfully]\n",
      "[2024-08-04 23:14:52,625: INFO: common: created directory at: artifacts]\n",
      "[2024-08-04 23:14:52,628: INFO: common: created directory at: artifacts\\prepare_callbacks\\checkpoint_dir]\n",
      "[2024-08-04 23:14:52,632: INFO: common: created directory at: artifacts\\prepare_callbacks\\tensorboard_log_dir]\n",
      "[2024-08-04 23:14:52,636: INFO: common: created directory at: artifacts\\training]\n",
      "Found 60000 files belonging to 10 classes.\n",
      "Found 10000 files belonging to 10 classes.\n",
      "(32, 28, 28, 3) (32,)\n"
     ]
    },
    {
     "data": {
      "image/png": "[encoded data removed]",
      "text/plain": [
       "<Figure size 1500x1500 with 10 Axes>"
      ]
     },
     "metadata": {},
     "output_type": "display_data"
    },
    {
     "name": "stdout",
     "output_type": "stream",
     "text": [
      "No GPU found\n",
      "1406/1406 [==============================] - 126s 88ms/step - loss: 0.1286 - accuracy: 0.0991 - val_loss: 0.0458 - val_accuracy: 0.0910\n"
     ]
    },
    {
     "name": "stderr",
     "output_type": "stream",
     "text": [
      "c:\\Users\\ikbal\\Desktop\\projects\\flower-classification\\venv\\lib\\site-packages\\keras\\src\\engine\\training.py:3000: UserWarning: You are saving your model as an HDF5 file via `model.save()`. This file format is considered legacy. We recommend using instead the native Keras format, e.g. `model.save('my_model.keras')`.\n",
      "  saving_api.save_model(\n"
     ]
    }
   ],
   "source": [
    "try:\n",
    "    config = ConfigurationManager()\n",
    "    prepare_callbacks_config = config.get_prepare_callback_config()\n",
    "    prepare_callbacks = PrepareCallback(config=prepare_callbacks_config)\n",
    "    callback_list = prepare_callbacks.get_tb_ckpt_callbacks()\n",
    "\n",
    "    training_config = config.get_training_config()\n",
    "    training = Training(config=training_config)\n",
    "    training.get_base_model()\n",
    "    training.convert_images_to_rgb()\n",
    "    training.read_data()\n",
    "    training.train(\n",
    "        callback_list=callback_list\n",
    "    )\n",
    "    # training.get_trained_model()\n",
    "    # training.test()\n",
    "    # training.predict()\n",
    "    \n",
    "except Exception as e:\n",
    "    raise e"
   ]
  },
  {
   "cell_type": "code",
   "execution_count": 14,
   "metadata": {},
   "outputs": [
    {
     "name": "stdout",
     "output_type": "stream",
     "text": [
      "144/313 [============>.................] - ETA: 5s - loss: 0.0632 - accuracy: 0.0914"
     ]
    },
    {
     "name": "stdout",
     "output_type": "stream",
     "text": [
      "313/313 [==============================] - 10s 29ms/step - loss: 0.0597 - accuracy: 0.0930\n",
      "Test accuracy: 0.09300000220537186\n",
      "313/313 [==============================] - 4s 11ms/step\n",
      "Accuracy: 98.32%\n"
     ]
    }
   ],
   "source": [
    "training.get_trained_model()\n",
    "training.test()\n",
    "training.predict()"
   ]
  },
  {
   "cell_type": "code",
   "execution_count": null,
   "metadata": {},
   "outputs": [],
   "source": []
  }
 ],
 "metadata": {
  "kernelspec": {
   "display_name": "chicken",
   "language": "python",
   "name": "python3"
  },
  "language_info": {
   "codemirror_mode": {
    "name": "ipython",
    "version": 3
   },
   "file_extension": ".py",
   "mimetype": "text/x-python",
   "name": "python",
   "nbconvert_exporter": "python",
   "pygments_lexer": "ipython3",
   "version": "3.8.4"
  },
  "orig_nbformat": 4
 },
 "nbformat": 4,
 "nbformat_minor": 2
}
